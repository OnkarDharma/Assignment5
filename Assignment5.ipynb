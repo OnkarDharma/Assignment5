{
  "nbformat": 4,
  "nbformat_minor": 0,
  "metadata": {
    "colab": {
      "name": "Assignment5.ipynb",
      "version": "0.3.2",
      "provenance": [],
      "collapsed_sections": [],
      "include_colab_link": true
    },
    "kernelspec": {
      "name": "python3",
      "display_name": "Python 3"
    },
    "accelerator": "GPU"
  },
  "cells": [
    {
      "cell_type": "markdown",
      "metadata": {
        "id": "view-in-github",
        "colab_type": "text"
      },
      "source": [
        "<a href=\"https://colab.research.google.com/github/OnkarDharma/Assignment5/blob/master/Assignment5.ipynb\" target=\"_parent\"><img src=\"https://colab.research.google.com/assets/colab-badge.svg\" alt=\"Open In Colab\"/></a>"
      ]
    },
    {
      "cell_type": "code",
      "metadata": {
        "id": "0SJyVpgSxHt4",
        "colab_type": "code",
        "outputId": "d03c1c68-75aa-43e8-f456-48109ab65960",
        "colab": {
          "base_uri": "https://localhost:8080/",
          "height": 34
        }
      },
      "source": [
        "import numpy as np\n",
        "\n",
        "from keras.models import Sequential\n",
        "from keras.layers import Dense, Dropout, Activation, Flatten, Add, BatchNormalization\n",
        "from keras.layers import Convolution2D, MaxPooling2D,Conv2D\n",
        "from keras.utils import np_utils\n",
        "\n",
        "from keras.datasets import mnist\n",
        "from keras.preprocessing.image import ImageDataGenerator\n",
        "from keras import regularizers"
      ],
      "execution_count": 1,
      "outputs": [
        {
          "output_type": "stream",
          "text": [
            "Using TensorFlow backend.\n"
          ],
          "name": "stderr"
        }
      ]
    },
    {
      "cell_type": "code",
      "metadata": {
        "id": "YlEUplvoxKAT",
        "colab_type": "code",
        "colab": {}
      },
      "source": [
        "(X_train, y_train), (X_test, y_test) = mnist.load_data()\n"
      ],
      "execution_count": 0,
      "outputs": []
    },
    {
      "cell_type": "code",
      "metadata": {
        "id": "I6Y9Va-xxMXG",
        "colab_type": "code",
        "outputId": "4ce117bd-afba-4e4d-ec95-87afe83abdb7",
        "colab": {
          "base_uri": "https://localhost:8080/",
          "height": 303
        }
      },
      "source": [
        "print (X_train.shape)\n",
        "from matplotlib import pyplot as plt\n",
        "%matplotlib inline\n",
        "plt.imshow(X_train[1])"
      ],
      "execution_count": 3,
      "outputs": [
        {
          "output_type": "stream",
          "text": [
            "(60000, 28, 28)\n"
          ],
          "name": "stdout"
        },
        {
          "output_type": "execute_result",
          "data": {
            "text/plain": [
              "<matplotlib.image.AxesImage at 0x7fae4e709978>"
            ]
          },
          "metadata": {
            "tags": []
          },
          "execution_count": 3
        },
        {
          "output_type": "display_data",
          "data": {
            "image/png": "[encoded data removed]",
            "text/plain": [
              "<Figure size 432x288 with 1 Axes>"
            ]
          },
          "metadata": {
            "tags": []
          }
        }
      ]
    },
    {
      "cell_type": "code",
      "metadata": {
        "id": "lxDZxPhhxOgO",
        "colab_type": "code",
        "colab": {}
      },
      "source": [
        "width, height, channels = X_train.shape[1], X_train.shape[2], 1\n",
        "X_train = X_train.reshape((X_train.shape[0], width, height, channels))\n",
        "X_test = X_test.reshape((X_test.shape[0], width, height, channels))\n",
        "#X_train = X_train.reshape(X_train.shape[0], 28, 28,1)\n",
        "#X_test = X_test.reshape(X_test.shape[0], 28, 28,1)"
      ],
      "execution_count": 0,
      "outputs": []
    },
    {
      "cell_type": "code",
      "metadata": {
        "id": "ox6iDFPVv_O_",
        "colab_type": "code",
        "colab": {
          "base_uri": "https://localhost:8080/",
          "height": 34
        },
        "outputId": "734b6566-8479-4f83-e185-a2d65a995de6"
      },
      "source": [
        "# report pixel means and standard deviations\n",
        "print('Statistics train=%.3f (%.3f), test=%.3f (%.3f)' % (X_train.mean(), X_train.std(), X_test.mean(), X_test.std()))"
      ],
      "execution_count": 5,
      "outputs": [
        {
          "output_type": "stream",
          "text": [
            "Statistics train=33.318 (78.567), test=33.791 (79.172)\n"
          ],
          "name": "stdout"
        }
      ]
    },
    {
      "cell_type": "code",
      "metadata": {
        "id": "Qeb-OFfjwMLo",
        "colab_type": "code",
        "colab": {}
      },
      "source": [
        "# create generator that centers pixel values\n",
        "datagen = ImageDataGenerator(featurewise_center=True, featurewise_std_normalization=True)"
      ],
      "execution_count": 0,
      "outputs": []
    },
    {
      "cell_type": "code",
      "metadata": {
        "id": "3HzMqbTnxQQW",
        "colab_type": "code",
        "colab": {}
      },
      "source": [
        "X_train = X_train.astype('float32')\n",
        "X_test = X_test.astype('float32')\n",
        "X_train /= 255\n",
        "X_test /= 255"
      ],
      "execution_count": 0,
      "outputs": []
    },
    {
      "cell_type": "code",
      "metadata": {
        "id": "7LdYiW6ixR9e",
        "colab_type": "code",
        "colab": {}
      },
      "source": [
        "y_train[:10]\n",
        "Y_train = np_utils.to_categorical(y_train, 10)\n",
        "Y_test = np_utils.to_categorical(y_test, 10)"
      ],
      "execution_count": 0,
      "outputs": []
    },
    {
      "cell_type": "code",
      "metadata": {
        "id": "qdEIjYu2w4Tx",
        "colab_type": "code",
        "colab": {
          "base_uri": "https://localhost:8080/",
          "height": 85
        },
        "outputId": "48526397-068c-4434-9b92-2203056cc086"
      },
      "source": [
        "# calculate the mean on the training dataset\n",
        "datagen.fit(X_train)\n",
        "print('Data Generator mean=%.3f, std=%.3f' % (datagen.mean, datagen.std))\n",
        "# demonstrate effect on a single batch of samples\n",
        "iterator = datagen.flow(X_train, Y_train, batch_size=64)\n",
        "# get a batch\n",
        "batchX, batchy = iterator.next()\n",
        "# pixel stats in the batch\n",
        "print(batchX.shape, batchX.mean(), batchX.std())\n",
        "# demonstrate effect on entire training dataset\n",
        "iterator = datagen.flow(X_train, Y_train, batch_size=32, shuffle=False)\n",
        "# get a batch\n",
        "batchX, batchy = iterator.next()\n",
        "# pixel stats in the batch\n",
        "print(batchX.shape, batchX.mean(), batchX.std())\n",
        "test_iterator = datagen.flow(X_test, Y_test, batch_size=32, shuffle=False)\n",
        "print('Batches train=%d, test=%d' % (len(iterator), len(test_iterator)))"
      ],
      "execution_count": 9,
      "outputs": [
        {
          "output_type": "stream",
          "text": [
            "Data Generator mean=0.131, std=0.308\n",
            "(64, 28, 28, 1) 0.018139785 1.021281\n",
            "(32, 28, 28, 1) -0.017685253 0.97913945\n",
            "Batches train=1875, test=313\n"
          ],
          "name": "stdout"
        }
      ]
    },
    {
      "cell_type": "code",
      "metadata": {
        "id": "rFR0F9j0xVp2",
        "colab_type": "code",
        "outputId": "8413bccb-af55-47a0-db40-28352c8c7d76",
        "colab": {
          "base_uri": "https://localhost:8080/",
          "height": 187
        }
      },
      "source": [
        "Y_train[:10]"
      ],
      "execution_count": 10,
      "outputs": [
        {
          "output_type": "execute_result",
          "data": {
            "text/plain": [
              "array([[0., 0., 0., 0., 0., 1., 0., 0., 0., 0.],\n",
              "       [1., 0., 0., 0., 0., 0., 0., 0., 0., 0.],\n",
              "       [0., 0., 0., 0., 1., 0., 0., 0., 0., 0.],\n",
              "       [0., 1., 0., 0., 0., 0., 0., 0., 0., 0.],\n",
              "       [0., 0., 0., 0., 0., 0., 0., 0., 0., 1.],\n",
              "       [0., 0., 1., 0., 0., 0., 0., 0., 0., 0.],\n",
              "       [0., 1., 0., 0., 0., 0., 0., 0., 0., 0.],\n",
              "       [0., 0., 0., 1., 0., 0., 0., 0., 0., 0.],\n",
              "       [0., 1., 0., 0., 0., 0., 0., 0., 0., 0.],\n",
              "       [0., 0., 0., 0., 1., 0., 0., 0., 0., 0.]], dtype=float32)"
            ]
          },
          "metadata": {
            "tags": []
          },
          "execution_count": 10
        }
      ]
    },
    {
      "cell_type": "code",
      "metadata": {
        "id": "mDpXf4YQxXRm",
        "colab_type": "code",
        "outputId": "8f2f353a-01b1-4e9b-95d7-271350378460",
        "colab": {
          "base_uri": "https://localhost:8080/",
          "height": 1329
        }
      },
      "source": [
        "from keras.layers import Activation\n",
        "model = Sequential()\n",
        "\n",
        "model.add(Conv2D(16, 3, 3, activation='relu', input_shape=(width, height, channels))) #26\n",
        "model.add(BatchNormalization()) \n",
        "model.add(Dropout(0.1))\n",
        "\n",
        "model.add(BatchNormalization())\n",
        "model.add(Conv2D(32, 3, 3, activation='relu')) #24\n",
        "model.add(Dropout(0.1))\n",
        "\n",
        "model.add(BatchNormalization())\n",
        "model.add(Conv2D(10, 1, 1, activation='relu')) #22\n",
        "\n",
        "model.add(MaxPooling2D(pool_size=(2, 2)))#11\n",
        "\n",
        "model.add(BatchNormalization())\n",
        "model.add(Conv2D(16, 3, 3, activation='relu'))#9\n",
        "model.add(Dropout(0.1))\n",
        "\n",
        "model.add(BatchNormalization())\n",
        "model.add(Conv2D(16, 3, 3, activation='relu'))#7\n",
        "model.add(Dropout(0.1))\n",
        "\n",
        "model.add(BatchNormalization())\n",
        "model.add(Conv2D(16, 3, 3, activation='relu',kernel_regularizer=regularizers.l2(0.01)))#5\n",
        "model.add(Dropout(0.1))\n",
        "\n",
        "\n",
        "model.add(BatchNormalization())\n",
        "model.add(Conv2D(16, 3, 3, activation='relu',kernel_regularizer=regularizers.l2(0.01)))#3\n",
        "model.add(Dropout(0.1))\n",
        "\n",
        "\n",
        "model.add(Convolution2D(10, 4, 4))\n",
        "model.add(BatchNormalization())\n",
        "model.add(Dropout(0.1))\n",
        "\n",
        "\n",
        "model.add(Flatten())\n",
        "model.add(Activation('softmax'))\n",
        "\n",
        "\n",
        "model.summary()"
      ],
      "execution_count": 11,
      "outputs": [
        {
          "output_type": "stream",
          "text": [
            "WARNING:tensorflow:From /usr/local/lib/python3.6/dist-packages/tensorflow/python/framework/op_def_library.py:263: colocate_with (from tensorflow.python.framework.ops) is deprecated and will be removed in a future version.\n",
            "Instructions for updating:\n",
            "Colocations handled automatically by placer.\n"
          ],
          "name": "stdout"
        },
        {
          "output_type": "stream",
          "text": [
            "/usr/local/lib/python3.6/dist-packages/ipykernel_launcher.py:4: UserWarning: Update your `Conv2D` call to the Keras 2 API: `Conv2D(16, (3, 3), activation=\"relu\", input_shape=(28, 28, 1...)`\n",
            "  after removing the cwd from sys.path.\n"
          ],
          "name": "stderr"
        },
        {
          "output_type": "stream",
          "text": [
            "WARNING:tensorflow:From /usr/local/lib/python3.6/dist-packages/keras/backend/tensorflow_backend.py:3445: calling dropout (from tensorflow.python.ops.nn_ops) with keep_prob is deprecated and will be removed in a future version.\n",
            "Instructions for updating:\n",
            "Please use `rate` instead of `keep_prob`. Rate should be set to `rate = 1 - keep_prob`.\n"
          ],
          "name": "stdout"
        },
        {
          "output_type": "stream",
          "text": [
            "/usr/local/lib/python3.6/dist-packages/ipykernel_launcher.py:9: UserWarning: Update your `Conv2D` call to the Keras 2 API: `Conv2D(32, (3, 3), activation=\"relu\")`\n",
            "  if __name__ == '__main__':\n",
            "/usr/local/lib/python3.6/dist-packages/ipykernel_launcher.py:13: UserWarning: Update your `Conv2D` call to the Keras 2 API: `Conv2D(10, (1, 1), activation=\"relu\")`\n",
            "  del sys.path[0]\n",
            "/usr/local/lib/python3.6/dist-packages/ipykernel_launcher.py:18: UserWarning: Update your `Conv2D` call to the Keras 2 API: `Conv2D(16, (3, 3), activation=\"relu\")`\n",
            "/usr/local/lib/python3.6/dist-packages/ipykernel_launcher.py:22: UserWarning: Update your `Conv2D` call to the Keras 2 API: `Conv2D(16, (3, 3), activation=\"relu\")`\n",
            "/usr/local/lib/python3.6/dist-packages/ipykernel_launcher.py:26: UserWarning: Update your `Conv2D` call to the Keras 2 API: `Conv2D(16, (3, 3), activation=\"relu\", kernel_regularizer=<keras.reg...)`\n"
          ],
          "name": "stderr"
        },
        {
          "output_type": "stream",
          "text": [
            "_________________________________________________________________\n",
            "Layer (type)                 Output Shape              Param #   \n",
            "=================================================================\n",
            "conv2d_1 (Conv2D)            (None, 26, 26, 16)        160       \n",
            "_________________________________________________________________\n",
            "batch_normalization_1 (Batch (None, 26, 26, 16)        64        \n",
            "_________________________________________________________________\n",
            "dropout_1 (Dropout)          (None, 26, 26, 16)        0         \n",
            "_________________________________________________________________\n",
            "batch_normalization_2 (Batch (None, 26, 26, 16)        64        \n",
            "_________________________________________________________________\n",
            "conv2d_2 (Conv2D)            (None, 24, 24, 32)        4640      \n",
            "_________________________________________________________________\n",
            "dropout_2 (Dropout)          (None, 24, 24, 32)        0         \n",
            "_________________________________________________________________\n",
            "batch_normalization_3 (Batch (None, 24, 24, 32)        128       \n",
            "_________________________________________________________________\n",
            "conv2d_3 (Conv2D)            (None, 24, 24, 10)        330       \n",
            "_________________________________________________________________\n",
            "max_pooling2d_1 (MaxPooling2 (None, 12, 12, 10)        0         \n",
            "_________________________________________________________________\n",
            "batch_normalization_4 (Batch (None, 12, 12, 10)        40        \n",
            "_________________________________________________________________\n",
            "conv2d_4 (Conv2D)            (None, 10, 10, 16)        1456      \n",
            "_________________________________________________________________\n",
            "dropout_3 (Dropout)          (None, 10, 10, 16)        0         \n",
            "_________________________________________________________________\n",
            "batch_normalization_5 (Batch (None, 10, 10, 16)        64        \n",
            "_________________________________________________________________\n",
            "conv2d_5 (Conv2D)            (None, 8, 8, 16)          2320      \n",
            "_________________________________________________________________\n",
            "dropout_4 (Dropout)          (None, 8, 8, 16)          0         \n",
            "_________________________________________________________________\n",
            "batch_normalization_6 (Batch (None, 8, 8, 16)          64        \n",
            "_________________________________________________________________\n",
            "conv2d_6 (Conv2D)            (None, 6, 6, 16)          2320      \n",
            "_________________________________________________________________\n",
            "dropout_5 (Dropout)          (None, 6, 6, 16)          0         \n",
            "_________________________________________________________________\n",
            "batch_normalization_7 (Batch (None, 6, 6, 16)          64        \n",
            "_________________________________________________________________\n",
            "conv2d_7 (Conv2D)            (None, 4, 4, 16)          2320      \n",
            "_________________________________________________________________\n",
            "dropout_6 (Dropout)          (None, 4, 4, 16)          0         \n",
            "_________________________________________________________________\n",
            "conv2d_8 (Conv2D)            (None, 1, 1, 10)          2570      \n",
            "_________________________________________________________________\n",
            "batch_normalization_8 (Batch (None, 1, 1, 10)          40        \n",
            "_________________________________________________________________\n",
            "dropout_7 (Dropout)          (None, 1, 1, 10)          0         \n",
            "_________________________________________________________________\n",
            "flatten_1 (Flatten)          (None, 10)                0         \n",
            "_________________________________________________________________\n",
            "activation_1 (Activation)    (None, 10)                0         \n",
            "=================================================================\n",
            "Total params: 16,644\n",
            "Trainable params: 16,380\n",
            "Non-trainable params: 264\n",
            "_________________________________________________________________\n"
          ],
          "name": "stdout"
        },
        {
          "output_type": "stream",
          "text": [
            "/usr/local/lib/python3.6/dist-packages/ipykernel_launcher.py:31: UserWarning: Update your `Conv2D` call to the Keras 2 API: `Conv2D(16, (3, 3), activation=\"relu\", kernel_regularizer=<keras.reg...)`\n",
            "/usr/local/lib/python3.6/dist-packages/ipykernel_launcher.py:35: UserWarning: Update your `Conv2D` call to the Keras 2 API: `Conv2D(10, (4, 4))`\n"
          ],
          "name": "stderr"
        }
      ]
    },
    {
      "cell_type": "code",
      "metadata": {
        "id": "L2IicGJ4x3Be",
        "colab_type": "code",
        "outputId": "bdc73ba6-9285-4723-c73b-42b17022636a",
        "colab": {
          "base_uri": "https://localhost:8080/",
          "height": 1465
        }
      },
      "source": [
        "model.compile(loss='categorical_crossentropy', optimizer='adam', metrics=['accuracy'])\n",
        "\n",
        "model.fit_generator(iterator,steps_per_epoch=2000, epochs=40, validation_data=test_iterator, validation_steps=800,verbose=1)"
      ],
      "execution_count": 12,
      "outputs": [
        {
          "output_type": "stream",
          "text": [
            "WARNING:tensorflow:From /usr/local/lib/python3.6/dist-packages/tensorflow/python/ops/math_ops.py:3066: to_int32 (from tensorflow.python.ops.math_ops) is deprecated and will be removed in a future version.\n",
            "Instructions for updating:\n",
            "Use tf.cast instead.\n",
            "Epoch 1/40\n",
            "2000/2000 [==============================] - 31s 16ms/step - loss: 0.7029 - acc: 0.8286 - val_loss: 0.1751 - val_acc: 0.9782\n",
            "Epoch 2/40\n",
            "2000/2000 [==============================] - 28s 14ms/step - loss: 0.3468 - acc: 0.8992 - val_loss: 0.1019 - val_acc: 0.9867\n",
            "Epoch 3/40\n",
            "2000/2000 [==============================] - 28s 14ms/step - loss: 0.2901 - acc: 0.9159 - val_loss: 0.0988 - val_acc: 0.9859\n",
            "Epoch 4/40\n",
            "2000/2000 [==============================] - 28s 14ms/step - loss: 0.2562 - acc: 0.9246 - val_loss: 0.0767 - val_acc: 0.9878\n",
            "Epoch 5/40\n",
            "2000/2000 [==============================] - 28s 14ms/step - loss: 0.2340 - acc: 0.9312 - val_loss: 0.0705 - val_acc: 0.9907\n",
            "Epoch 6/40\n",
            "2000/2000 [==============================] - 28s 14ms/step - loss: 0.2231 - acc: 0.9351 - val_loss: 0.0686 - val_acc: 0.9889\n",
            "Epoch 7/40\n",
            "2000/2000 [==============================] - 28s 14ms/step - loss: 0.2137 - acc: 0.9365 - val_loss: 0.0679 - val_acc: 0.9901\n",
            "Epoch 8/40\n",
            "2000/2000 [==============================] - 28s 14ms/step - loss: 0.2045 - acc: 0.9381 - val_loss: 0.0717 - val_acc: 0.9887\n",
            "Epoch 9/40\n",
            "2000/2000 [==============================] - 27s 14ms/step - loss: 0.1956 - acc: 0.9407 - val_loss: 0.0599 - val_acc: 0.9916\n",
            "Epoch 10/40\n",
            "2000/2000 [==============================] - 27s 14ms/step - loss: 0.1940 - acc: 0.9413 - val_loss: 0.0715 - val_acc: 0.9891\n",
            "Epoch 11/40\n",
            "2000/2000 [==============================] - 28s 14ms/step - loss: 0.1857 - acc: 0.9434 - val_loss: 0.0676 - val_acc: 0.9895\n",
            "Epoch 12/40\n",
            "2000/2000 [==============================] - 28s 14ms/step - loss: 0.1869 - acc: 0.9410 - val_loss: 0.0678 - val_acc: 0.9898\n",
            "Epoch 13/40\n",
            "2000/2000 [==============================] - 28s 14ms/step - loss: 0.1776 - acc: 0.9437 - val_loss: 0.0664 - val_acc: 0.9897\n",
            "Epoch 14/40\n",
            "2000/2000 [==============================] - 28s 14ms/step - loss: 0.1803 - acc: 0.9430 - val_loss: 0.0695 - val_acc: 0.9881\n",
            "Epoch 15/40\n",
            "2000/2000 [==============================] - 28s 14ms/step - loss: 0.1761 - acc: 0.9445 - val_loss: 0.0717 - val_acc: 0.9878\n",
            "Epoch 16/40\n",
            "2000/2000 [==============================] - 28s 14ms/step - loss: 0.1747 - acc: 0.9435 - val_loss: 0.0637 - val_acc: 0.9895\n",
            "Epoch 17/40\n",
            "2000/2000 [==============================] - 28s 14ms/step - loss: 0.1716 - acc: 0.9453 - val_loss: 0.0687 - val_acc: 0.9885\n",
            "Epoch 18/40\n",
            "2000/2000 [==============================] - 28s 14ms/step - loss: 0.1714 - acc: 0.9454 - val_loss: 0.0597 - val_acc: 0.9910\n",
            "Epoch 19/40\n",
            "2000/2000 [==============================] - 28s 14ms/step - loss: 0.1694 - acc: 0.9451 - val_loss: 0.0668 - val_acc: 0.9897\n",
            "Epoch 20/40\n",
            "2000/2000 [==============================] - 28s 14ms/step - loss: 0.1641 - acc: 0.9471 - val_loss: 0.0530 - val_acc: 0.9925\n",
            "Epoch 21/40\n",
            "2000/2000 [==============================] - 28s 14ms/step - loss: 0.1635 - acc: 0.9456 - val_loss: 0.0607 - val_acc: 0.9906\n",
            "Epoch 22/40\n",
            "2000/2000 [==============================] - 29s 14ms/step - loss: 0.1677 - acc: 0.9443 - val_loss: 0.0571 - val_acc: 0.9901\n",
            "Epoch 23/40\n",
            "2000/2000 [==============================] - 28s 14ms/step - loss: 0.1641 - acc: 0.9458 - val_loss: 0.0647 - val_acc: 0.9903\n",
            "Epoch 24/40\n",
            "2000/2000 [==============================] - 28s 14ms/step - loss: 0.1595 - acc: 0.9475 - val_loss: 0.0574 - val_acc: 0.9914\n",
            "Epoch 25/40\n",
            "2000/2000 [==============================] - 28s 14ms/step - loss: 0.1582 - acc: 0.9467 - val_loss: 0.0635 - val_acc: 0.9893\n",
            "Epoch 26/40\n",
            "2000/2000 [==============================] - 29s 14ms/step - loss: 0.1606 - acc: 0.9467 - val_loss: 0.0623 - val_acc: 0.9906\n",
            "Epoch 27/40\n",
            "2000/2000 [==============================] - 28s 14ms/step - loss: 0.1553 - acc: 0.9481 - val_loss: 0.0544 - val_acc: 0.9908\n",
            "Epoch 28/40\n",
            "2000/2000 [==============================] - 28s 14ms/step - loss: 0.1561 - acc: 0.9475 - val_loss: 0.0642 - val_acc: 0.9888\n",
            "Epoch 29/40\n",
            "2000/2000 [==============================] - 28s 14ms/step - loss: 0.1582 - acc: 0.9475 - val_loss: 0.0602 - val_acc: 0.9904\n",
            "Epoch 30/40\n",
            "2000/2000 [==============================] - 29s 14ms/step - loss: 0.1545 - acc: 0.9471 - val_loss: 0.0590 - val_acc: 0.9908\n",
            "Epoch 31/40\n",
            "2000/2000 [==============================] - 28s 14ms/step - loss: 0.1536 - acc: 0.9472 - val_loss: 0.0552 - val_acc: 0.9914\n",
            "Epoch 32/40\n",
            "2000/2000 [==============================] - 28s 14ms/step - loss: 0.1520 - acc: 0.9477 - val_loss: 0.0677 - val_acc: 0.9892\n",
            "Epoch 33/40\n",
            "2000/2000 [==============================] - 28s 14ms/step - loss: 0.1540 - acc: 0.9483 - val_loss: 0.0662 - val_acc: 0.9886\n",
            "Epoch 34/40\n",
            "2000/2000 [==============================] - 28s 14ms/step - loss: 0.1497 - acc: 0.9490 - val_loss: 0.0593 - val_acc: 0.9908\n",
            "Epoch 35/40\n",
            "2000/2000 [==============================] - 28s 14ms/step - loss: 0.1487 - acc: 0.9491 - val_loss: 0.0576 - val_acc: 0.9915\n",
            "Epoch 36/40\n",
            "2000/2000 [==============================] - 28s 14ms/step - loss: 0.1494 - acc: 0.9491 - val_loss: 0.0530 - val_acc: 0.9924\n",
            "Epoch 37/40\n",
            "2000/2000 [==============================] - 28s 14ms/step - loss: 0.1516 - acc: 0.9478 - val_loss: 0.0570 - val_acc: 0.9905\n",
            "Epoch 38/40\n",
            "2000/2000 [==============================] - 29s 14ms/step - loss: 0.1497 - acc: 0.9480 - val_loss: 0.0605 - val_acc: 0.9913\n",
            "Epoch 39/40\n",
            "2000/2000 [==============================] - 28s 14ms/step - loss: 0.1460 - acc: 0.9501 - val_loss: 0.0568 - val_acc: 0.9907\n",
            "Epoch 40/40\n",
            "2000/2000 [==============================] - 27s 14ms/step - loss: 0.1470 - acc: 0.9495 - val_loss: 0.0566 - val_acc: 0.9919\n"
          ],
          "name": "stdout"
        },
        {
          "output_type": "execute_result",
          "data": {
            "text/plain": [
              "<keras.callbacks.History at 0x7fae94e72550>"
            ]
          },
          "metadata": {
            "tags": []
          },
          "execution_count": 12
        }
      ]
    },
    {
      "cell_type": "code",
      "metadata": {
        "id": "WLxlW9ufyQiO",
        "colab_type": "code",
        "outputId": "056ed6bf-4f3d-40ec-eabc-c574e16d9efb",
        "colab": {
          "base_uri": "https://localhost:8080/",
          "height": 34
        }
      },
      "source": [
        "\n",
        "score = model.evaluate(X_test, Y_test, verbose=0)\n",
        "print(score)"
      ],
      "execution_count": 13,
      "outputs": [
        {
          "output_type": "stream",
          "text": [
            "[3.4594425060272216, 0.315]\n"
          ],
          "name": "stdout"
        }
      ]
    },
    {
      "cell_type": "code",
      "metadata": {
        "id": "m2qDl21ozBnW",
        "colab_type": "code",
        "colab": {}
      },
      "source": [
        ""
      ],
      "execution_count": 0,
      "outputs": []
    }
  ]
}